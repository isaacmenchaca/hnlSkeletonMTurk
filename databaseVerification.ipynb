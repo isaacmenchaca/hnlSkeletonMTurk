{
 "cells": [
  {
   "cell_type": "markdown",
   "id": "8b680151",
   "metadata": {},
   "source": [
    "### Import libraries."
   ]
  },
  {
   "cell_type": "code",
   "execution_count": 1,
   "id": "61e8bc0b",
   "metadata": {},
   "outputs": [],
   "source": [
    "import sqlite3\n",
    "import json\n",
    "import pandas as pd"
   ]
  },
  {
   "cell_type": "markdown",
   "id": "b8c84007",
   "metadata": {},
   "source": [
    "### Use SQL library of choice. \n",
    "\n",
    "Used sqlite since it's saving locally from local runs. Can and will probably switch to SQLAlchemy for database url instance."
   ]
  },
  {
   "cell_type": "code",
   "execution_count": 2,
   "id": "08d2b3c9",
   "metadata": {},
   "outputs": [
    {
     "name": "stdout",
     "output_type": "stream",
     "text": [
      "[('assignments',), ('amt_hit',), ('campaign',), ('apscheduler_jobs',)]\n"
     ]
    }
   ],
   "source": [
    "# creating file path\n",
    "dbfile = '/Users/isaacmenchaca/Desktop/hnlSkeletonMTurk/participants.db'\n",
    "# Create a SQL connection to our SQLite database\n",
    "con = sqlite3.connect(dbfile)\n",
    "\n",
    "# creating cursor\n",
    "cur = con.cursor()\n",
    "\n",
    "# reading all table names\n",
    "table_list = [a for a in cur.execute(\"SELECT name FROM sqlite_master WHERE type = 'table'\")]\n",
    "# here is you table list\n",
    "print(table_list)\n",
    "\n"
   ]
  },
  {
   "cell_type": "markdown",
   "id": "4bf5bbb3",
   "metadata": {},
   "source": [
    "### Query assignments database.\n",
    "\n",
    "Contains info per participant. Display using pandas."
   ]
  },
  {
   "cell_type": "code",
   "execution_count": 3,
   "id": "1a77a485",
   "metadata": {},
   "outputs": [
    {
     "data": {
      "text/html": [
       "<div>\n",
       "<style scoped>\n",
       "    .dataframe tbody tr th:only-of-type {\n",
       "        vertical-align: middle;\n",
       "    }\n",
       "\n",
       "    .dataframe tbody tr th {\n",
       "        vertical-align: top;\n",
       "    }\n",
       "\n",
       "    .dataframe thead th {\n",
       "        text-align: right;\n",
       "    }\n",
       "</style>\n",
       "<table border=\"1\" class=\"dataframe\">\n",
       "  <thead>\n",
       "    <tr style=\"text-align: right;\">\n",
       "      <th></th>\n",
       "      <th>uniqueid</th>\n",
       "      <th>assignmentid</th>\n",
       "      <th>workerid</th>\n",
       "      <th>hitid</th>\n",
       "      <th>ipaddress</th>\n",
       "      <th>browser</th>\n",
       "      <th>platform</th>\n",
       "      <th>language</th>\n",
       "      <th>cond</th>\n",
       "      <th>counterbalance</th>\n",
       "      <th>codeversion</th>\n",
       "      <th>beginhit</th>\n",
       "      <th>beginexp</th>\n",
       "      <th>endhit</th>\n",
       "      <th>bonus</th>\n",
       "      <th>status</th>\n",
       "      <th>mode</th>\n",
       "      <th>datastring</th>\n",
       "    </tr>\n",
       "  </thead>\n",
       "  <tbody>\n",
       "    <tr>\n",
       "      <th>0</th>\n",
       "      <td>debugRRDS6U:debugFW6SAR</td>\n",
       "      <td>debugFW6SAR</td>\n",
       "      <td>debugRRDS6U</td>\n",
       "      <td>debugTKJDL4</td>\n",
       "      <td>127.0.0.1</td>\n",
       "      <td>safari</td>\n",
       "      <td>macos</td>\n",
       "      <td>en-us</td>\n",
       "      <td>0</td>\n",
       "      <td>0</td>\n",
       "      <td>0.0.1</td>\n",
       "      <td>2022-01-28 21:37:29.015721</td>\n",
       "      <td>2022-01-28 21:37:49.819768</td>\n",
       "      <td>2022-01-28 21:37:54.096406</td>\n",
       "      <td>0.0</td>\n",
       "      <td>3</td>\n",
       "      <td>debug</td>\n",
       "      <td>{\"condition\": 0, \"counterbalance\": 0, \"assignm...</td>\n",
       "    </tr>\n",
       "  </tbody>\n",
       "</table>\n",
       "</div>"
      ],
      "text/plain": [
       "                  uniqueid assignmentid     workerid        hitid  ipaddress  \\\n",
       "0  debugRRDS6U:debugFW6SAR  debugFW6SAR  debugRRDS6U  debugTKJDL4  127.0.0.1   \n",
       "\n",
       "  browser platform language  cond  counterbalance codeversion  \\\n",
       "0  safari    macos    en-us     0               0       0.0.1   \n",
       "\n",
       "                     beginhit                    beginexp  \\\n",
       "0  2022-01-28 21:37:29.015721  2022-01-28 21:37:49.819768   \n",
       "\n",
       "                       endhit  bonus  status   mode  \\\n",
       "0  2022-01-28 21:37:54.096406    0.0       3  debug   \n",
       "\n",
       "                                          datastring  \n",
       "0  {\"condition\": 0, \"counterbalance\": 0, \"assignm...  "
      ]
     },
     "metadata": {},
     "output_type": "display_data"
    }
   ],
   "source": [
    "# Verify that you can query task data.\n",
    "df = pd.read_sql_query(\"SELECT * FROM assignments\", con)\n",
    "display(df)"
   ]
  },
  {
   "cell_type": "markdown",
   "id": "aad08dd2",
   "metadata": {},
   "source": [
    "## What do the different status numbers mean? TODO: LOOK UP\n",
    "1 instructions\n",
    "2 end of instructions\n",
    "3 end of experiment"
   ]
  },
  {
   "cell_type": "markdown",
   "id": "d15fe73c",
   "metadata": {},
   "source": [
    "### Verify data saved by PsiTurk.\n",
    "\n",
    "If the data is there, your data saving method using psiturk is functional."
   ]
  },
  {
   "cell_type": "code",
   "execution_count": 4,
   "id": "eeabc1e8",
   "metadata": {},
   "outputs": [
    {
     "name": "stdout",
     "output_type": "stream",
     "text": [
      "Participant 1\n",
      "{'phase': 'INSTRUCTIONS', 'templates': ['instructions/instruct-1.html', 'instructions/instruct-2.html', 'instructions/instruct-practiceStart.html'], 'action': 'Begin'}\n",
      "{'phase': 'INSTRUCTIONS', 'template': 'instructions/instruct-1.html', 'indexOf': 0, 'action': 'NextPage', 'viewTime': 1554}\n",
      "{'phase': 'INSTRUCTIONS', 'template': 'instructions/instruct-2.html', 'indexOf': 1, 'action': 'NextPage', 'viewTime': 747}\n",
      "{'phase': 'INSTRUCTIONS', 'template': 'instructions/instruct-practiceStart.html', 'indexOf': 2, 'action': 'FinishInstructions', 'viewTime': 983}\n",
      "{'rt': 4539, 'stimulus': '<p style=\"font-size: 30px;\">This is the practice trial. Press any key to begin.</p>', 'response': ' ', 'trial_type': 'html-keyboard-response', 'trial_index': 0, 'time_elapsed': 4542, 'internal_node_id': '0.0-0.0'}\n",
      "{'rt': 4381, 'answer': 'lessThan50', 'response': 'greaterThan50', 'correct': False, 'trial_type': 'DisplayTableStim', 'trial_index': 1, 'time_elapsed': 8926, 'internal_node_id': '0.0-1.0'}\n",
      "{'rt': 6847, 'url': 'instructions/instruct-experimentStart.html', 'trial_type': 'external-html', 'trial_index': 2, 'time_elapsed': 15797, 'internal_node_id': '0.0-2.0'}\n",
      "{'rt': 1475, 'stimulus': '<p style=\"font-size: 30px;\">This is the real experiment. Press any key to begin.</p>', 'response': ' ', 'trial_type': 'html-keyboard-response', 'trial_index': 3, 'time_elapsed': 17274, 'internal_node_id': '0.0-3.0'}\n",
      "{'rt': 1344, 'answer': 'greaterThan50', 'response': 'greaterThan50', 'correct': True, 'trial_type': 'DisplayTableStim', 'trial_index': 4, 'time_elapsed': 18623, 'internal_node_id': '0.0-4.0'}\n",
      "{'rt': 984, 'answer': 'greaterThan50', 'response': 'greaterThan50', 'correct': True, 'trial_type': 'DisplayTableStim', 'trial_index': 5, 'time_elapsed': 19612, 'internal_node_id': '0.0-5.0'}\n",
      "{'rt': 1048, 'answer': 'greaterThan50', 'response': 'greaterThan50', 'correct': True, 'trial_type': 'DisplayTableStim', 'trial_index': 6, 'time_elapsed': 20667, 'internal_node_id': '0.0-6.0'}\n",
      "{'rt': 873, 'answer': 'greaterThan50', 'response': 'greaterThan50', 'correct': True, 'trial_type': 'DisplayTableStim', 'trial_index': 7, 'time_elapsed': 21546, 'internal_node_id': '0.0-7.0'}\n",
      "\n"
     ]
    }
   ],
   "source": [
    "for i, datastring in enumerate(df['datastring'].values):\n",
    "        print('Participant', i + 1)\n",
    "        for participantData in json.loads(datastring)['data']:\n",
    "            print(participantData['trialdata'])\n",
    "        print()"
   ]
  },
  {
   "cell_type": "markdown",
   "id": "776e1151",
   "metadata": {},
   "source": [
    "### Test custom code for assigning workers bonuses.\n",
    "\n",
    "Test how you will scrape the data and insert into custom.py code."
   ]
  },
  {
   "cell_type": "code",
   "execution_count": 5,
   "id": "ea98c25a",
   "metadata": {},
   "outputs": [
    {
     "name": "stdout",
     "output_type": "stream",
     "text": [
      "Participant 1\n",
      "{'rt': 1732, 'answer': 'lessThan50', 'response': 'lessThan50', 'correct': True, 'trial_type': 'DisplayTableStim', 'trial_index': 1, 'time_elapsed': 2442, 'internal_node_id': '0.0-1.0'}\n",
      "{'rt': 1561, 'answer': 'greaterThan50', 'response': 'greaterThan50', 'correct': True, 'trial_type': 'DisplayTableStim', 'trial_index': 4, 'time_elapsed': 5866, 'internal_node_id': '0.0-4.0'}\n",
      "{'rt': 1726, 'answer': 'greaterThan50', 'response': 'greaterThan50', 'correct': True, 'trial_type': 'DisplayTableStim', 'trial_index': 5, 'time_elapsed': 7598, 'internal_node_id': '0.0-5.0'}\n",
      "{'rt': 1411, 'answer': 'greaterThan50', 'response': 'greaterThan50', 'correct': True, 'trial_type': 'DisplayTableStim', 'trial_index': 6, 'time_elapsed': 9016, 'internal_node_id': '0.0-6.0'}\n",
      "{'rt': 1227, 'answer': 'greaterThan50', 'response': 'greaterThan50', 'correct': True, 'trial_type': 'DisplayTableStim', 'trial_index': 7, 'time_elapsed': 10249, 'internal_node_id': '0.0-7.0'}\n",
      "Participant bonus: 0.1\n",
      "\n",
      "Participant 2\n",
      "{'rt': 1666, 'answer': 'lessThan50', 'response': 'lessThan50', 'correct': True, 'trial_type': 'DisplayTableStim', 'trial_index': 1, 'time_elapsed': 2396, 'internal_node_id': '0.0-1.0'}\n",
      "{'rt': 1677, 'answer': 'greaterThan50', 'response': 'greaterThan50', 'correct': True, 'trial_type': 'DisplayTableStim', 'trial_index': 4, 'time_elapsed': 5510, 'internal_node_id': '0.0-4.0'}\n",
      "{'rt': 1249, 'answer': 'greaterThan50', 'response': 'greaterThan50', 'correct': True, 'trial_type': 'DisplayTableStim', 'trial_index': 5, 'time_elapsed': 6765, 'internal_node_id': '0.0-5.0'}\n",
      "{'rt': 963, 'answer': 'greaterThan50', 'response': 'greaterThan50', 'correct': True, 'trial_type': 'DisplayTableStim', 'trial_index': 6, 'time_elapsed': 7734, 'internal_node_id': '0.0-6.0'}\n",
      "{'rt': 939, 'answer': 'greaterThan50', 'response': 'greaterThan50', 'correct': True, 'trial_type': 'DisplayTableStim', 'trial_index': 7, 'time_elapsed': 8679, 'internal_node_id': '0.0-7.0'}\n",
      "Participant bonus: 0.1\n",
      "\n",
      "Participant 3\n",
      "{'rt': 1417, 'answer': 'lessThan50', 'response': 'greaterThan50', 'correct': False, 'trial_type': 'DisplayTableStim', 'trial_index': 1, 'time_elapsed': 2427, 'internal_node_id': '0.0-1.0'}\n",
      "{'rt': 1348, 'answer': 'greaterThan50', 'response': 'lessThan50', 'correct': False, 'trial_type': 'DisplayTableStim', 'trial_index': 4, 'time_elapsed': 5264, 'internal_node_id': '0.0-4.0'}\n",
      "{'rt': 1029, 'answer': 'greaterThan50', 'response': 'lessThan50', 'correct': False, 'trial_type': 'DisplayTableStim', 'trial_index': 5, 'time_elapsed': 6299, 'internal_node_id': '0.0-5.0'}\n",
      "{'rt': 972, 'answer': 'greaterThan50', 'response': 'lessThan50', 'correct': False, 'trial_type': 'DisplayTableStim', 'trial_index': 6, 'time_elapsed': 7278, 'internal_node_id': '0.0-6.0'}\n",
      "{'rt': 1323, 'answer': 'greaterThan50', 'response': 'lessThan50', 'correct': False, 'trial_type': 'DisplayTableStim', 'trial_index': 7, 'time_elapsed': 8608, 'internal_node_id': '0.0-7.0'}\n",
      "Participant bonus: 0\n",
      "\n",
      "Participant 4\n",
      "{'rt': 1850, 'answer': 'lessThan50', 'response': 'lessThan50', 'correct': True, 'trial_type': 'DisplayTableStim', 'trial_index': 1, 'time_elapsed': 3385, 'internal_node_id': '0.0-1.0'}\n",
      "{'rt': 1921, 'answer': 'greaterThan50', 'response': 'lessThan50', 'correct': False, 'trial_type': 'DisplayTableStim', 'trial_index': 4, 'time_elapsed': 6951, 'internal_node_id': '0.0-4.0'}\n",
      "{'rt': 2029, 'answer': 'greaterThan50', 'response': 'greaterThan50', 'correct': True, 'trial_type': 'DisplayTableStim', 'trial_index': 5, 'time_elapsed': 8985, 'internal_node_id': '0.0-5.0'}\n",
      "{'rt': 1481, 'answer': 'greaterThan50', 'response': 'lessThan50', 'correct': False, 'trial_type': 'DisplayTableStim', 'trial_index': 6, 'time_elapsed': 10473, 'internal_node_id': '0.0-6.0'}\n",
      "{'rt': 1356, 'answer': 'greaterThan50', 'response': 'greaterThan50', 'correct': True, 'trial_type': 'DisplayTableStim', 'trial_index': 7, 'time_elapsed': 11834, 'internal_node_id': '0.0-7.0'}\n",
      "Participant bonus: 0.06\n",
      "\n",
      "Participant 5\n",
      "{'rt': 1708, 'answer': 'lessThan50', 'response': 'lessThan50', 'correct': True, 'trial_type': 'DisplayTableStim', 'trial_index': 1, 'time_elapsed': 2517, 'internal_node_id': '0.0-1.0'}\n",
      "{'rt': 1773, 'answer': 'greaterThan50', 'response': 'greaterThan50', 'correct': True, 'trial_type': 'DisplayTableStim', 'trial_index': 4, 'time_elapsed': 6075, 'internal_node_id': '0.0-4.0'}\n",
      "{'rt': 1411, 'answer': 'greaterThan50', 'response': 'lessThan50', 'correct': False, 'trial_type': 'DisplayTableStim', 'trial_index': 5, 'time_elapsed': 7490, 'internal_node_id': '0.0-5.0'}\n",
      "{'rt': 1078, 'answer': 'greaterThan50', 'response': 'greaterThan50', 'correct': True, 'trial_type': 'DisplayTableStim', 'trial_index': 6, 'time_elapsed': 8573, 'internal_node_id': '0.0-6.0'}\n",
      "{'rt': 1476, 'answer': 'greaterThan50', 'response': 'lessThan50', 'correct': False, 'trial_type': 'DisplayTableStim', 'trial_index': 7, 'time_elapsed': 10054, 'internal_node_id': '0.0-7.0'}\n",
      "Participant bonus: 0.06\n",
      "\n",
      "Participant 6\n",
      "{'rt': 1522, 'answer': 'lessThan50', 'response': 'lessThan50', 'correct': True, 'trial_type': 'DisplayTableStim', 'trial_index': 1, 'time_elapsed': 2487, 'internal_node_id': '0.0-1.0'}\n",
      "{'rt': 1545, 'answer': 'greaterThan50', 'response': 'greaterThan50', 'correct': True, 'trial_type': 'DisplayTableStim', 'trial_index': 4, 'time_elapsed': 5554, 'internal_node_id': '0.0-4.0'}\n",
      "{'rt': 1174, 'answer': 'greaterThan50', 'response': 'lessThan50', 'correct': False, 'trial_type': 'DisplayTableStim', 'trial_index': 5, 'time_elapsed': 6734, 'internal_node_id': '0.0-5.0'}\n",
      "{'rt': 1031, 'answer': 'greaterThan50', 'response': 'greaterThan50', 'correct': True, 'trial_type': 'DisplayTableStim', 'trial_index': 6, 'time_elapsed': 7772, 'internal_node_id': '0.0-6.0'}\n",
      "{'rt': 1129, 'answer': 'greaterThan50', 'response': 'lessThan50', 'correct': False, 'trial_type': 'DisplayTableStim', 'trial_index': 7, 'time_elapsed': 8907, 'internal_node_id': '0.0-7.0'}\n",
      "Participant bonus: 0.06\n",
      "\n",
      "Participant 7\n",
      "{'rt': 2698, 'answer': 'lessThan50', 'response': 'lessThan50', 'correct': True, 'trial_type': 'DisplayTableStim', 'trial_index': 1, 'time_elapsed': 3583, 'internal_node_id': '0.0-1.0'}\n",
      "{'rt': 1455, 'answer': 'greaterThan50', 'response': 'greaterThan50', 'correct': True, 'trial_type': 'DisplayTableStim', 'trial_index': 4, 'time_elapsed': 6488, 'internal_node_id': '0.0-4.0'}\n",
      "{'rt': 1252, 'answer': 'greaterThan50', 'response': 'lessThan50', 'correct': False, 'trial_type': 'DisplayTableStim', 'trial_index': 5, 'time_elapsed': 7747, 'internal_node_id': '0.0-5.0'}\n",
      "{'rt': 1195, 'answer': 'greaterThan50', 'response': 'greaterThan50', 'correct': True, 'trial_type': 'DisplayTableStim', 'trial_index': 6, 'time_elapsed': 8949, 'internal_node_id': '0.0-6.0'}\n",
      "{'rt': 1214, 'answer': 'greaterThan50', 'response': 'lessThan50', 'correct': False, 'trial_type': 'DisplayTableStim', 'trial_index': 7, 'time_elapsed': 10169, 'internal_node_id': '0.0-7.0'}\n",
      "Participant bonus: 0.06\n",
      "\n",
      "Participant 8\n",
      "{'rt': 1602, 'answer': 'lessThan50', 'response': 'lessThan50', 'correct': True, 'trial_type': 'DisplayTableStim', 'trial_index': 1, 'time_elapsed': 2400, 'internal_node_id': '0.0-1.0'}\n",
      "{'rt': 2572, 'answer': 'greaterThan50', 'response': 'greaterThan50', 'correct': True, 'trial_type': 'DisplayTableStim', 'trial_index': 4, 'time_elapsed': 7086, 'internal_node_id': '0.0-4.0'}\n",
      "{'rt': 1127, 'answer': 'greaterThan50', 'response': 'lessThan50', 'correct': False, 'trial_type': 'DisplayTableStim', 'trial_index': 5, 'time_elapsed': 8219, 'internal_node_id': '0.0-5.0'}\n",
      "{'rt': 1322, 'answer': 'greaterThan50', 'response': 'greaterThan50', 'correct': True, 'trial_type': 'DisplayTableStim', 'trial_index': 6, 'time_elapsed': 9546, 'internal_node_id': '0.0-6.0'}\n",
      "{'rt': 1062, 'answer': 'greaterThan50', 'response': 'lessThan50', 'correct': False, 'trial_type': 'DisplayTableStim', 'trial_index': 7, 'time_elapsed': 10614, 'internal_node_id': '0.0-7.0'}\n",
      "Participant bonus: 0.06\n",
      "\n"
     ]
    }
   ],
   "source": [
    "for i, datastring in enumerate(df['datastring'].values):\n",
    "        print('Participant', i + 1)\n",
    "        bonus = 0\n",
    "        for participantData in json.loads(datastring)['data']:\n",
    "            if \"trial_type\" in participantData['trialdata'].keys():\n",
    "                if participantData['trialdata']['trial_type'] == 'DisplayTableStim':\n",
    "                    \n",
    "                    print(participantData['trialdata'])\n",
    "                    if participantData['trialdata']['correct']:\n",
    "                        bonus += 0.02\n",
    "                        \n",
    "        print('Participant bonus:', bonus)\n",
    "        print()"
   ]
  },
  {
   "cell_type": "markdown",
   "id": "c839de36",
   "metadata": {},
   "source": [
    "### Close connection to Database."
   ]
  },
  {
   "cell_type": "code",
   "execution_count": 6,
   "id": "b87d8753",
   "metadata": {},
   "outputs": [],
   "source": [
    "con.close()"
   ]
  }
 ],
 "metadata": {
  "kernelspec": {
   "display_name": "Python 3 (ipykernel)",
   "language": "python",
   "name": "python3"
  },
  "language_info": {
   "codemirror_mode": {
    "name": "ipython",
    "version": 3
   },
   "file_extension": ".py",
   "mimetype": "text/x-python",
   "name": "python",
   "nbconvert_exporter": "python",
   "pygments_lexer": "ipython3",
   "version": "3.8.12"
  }
 },
 "nbformat": 4,
 "nbformat_minor": 5
}
