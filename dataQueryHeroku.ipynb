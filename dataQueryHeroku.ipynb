{
 "cells": [
  {
   "cell_type": "markdown",
   "id": "930badeb",
   "metadata": {},
   "source": [
    "### Import libraries."
   ]
  },
  {
   "cell_type": "code",
   "execution_count": 1,
   "id": "32247344",
   "metadata": {},
   "outputs": [],
   "source": [
    "#import the relevant sql library \n",
    "from sqlalchemy import create_engine\n",
    "import json\n",
    "import pandas as pd"
   ]
  },
  {
   "cell_type": "markdown",
   "id": "5071edef",
   "metadata": {},
   "source": [
    "### Use SQL library of choice. \n",
    "\n",
    "Using SQLAlchemy for database url instance."
   ]
  },
  {
   "cell_type": "code",
   "execution_count": 2,
   "id": "cbea6944",
   "metadata": {},
   "outputs": [
    {
     "data": {
      "text/plain": [
       "['assignments', 'amt_hit', 'campaign', 'apscheduler_jobs']"
      ]
     },
     "execution_count": 2,
     "metadata": {},
     "output_type": "execute_result"
    }
   ],
   "source": [
    "db_url = \"\"\n",
    "\n",
    " # link to your database\n",
    "engine = create_engine(db_url, echo = False)\n",
    "engine.table_names()"
   ]
  },
  {
   "cell_type": "markdown",
   "id": "a7bc03b4",
   "metadata": {},
   "source": [
    "### Query assignments database.\n",
    "\n",
    "Contains info per participant. Display using pandas."
   ]
  },
  {
   "cell_type": "code",
   "execution_count": 3,
   "id": "49d47f35",
   "metadata": {},
   "outputs": [
    {
     "data": {
      "text/html": [
       "<div>\n",
       "<style scoped>\n",
       "    .dataframe tbody tr th:only-of-type {\n",
       "        vertical-align: middle;\n",
       "    }\n",
       "\n",
       "    .dataframe tbody tr th {\n",
       "        vertical-align: top;\n",
       "    }\n",
       "\n",
       "    .dataframe thead th {\n",
       "        text-align: right;\n",
       "    }\n",
       "</style>\n",
       "<table border=\"1\" class=\"dataframe\">\n",
       "  <thead>\n",
       "    <tr style=\"text-align: right;\">\n",
       "      <th></th>\n",
       "      <th>uniqueid</th>\n",
       "      <th>assignmentid</th>\n",
       "      <th>workerid</th>\n",
       "      <th>hitid</th>\n",
       "      <th>ipaddress</th>\n",
       "      <th>browser</th>\n",
       "      <th>platform</th>\n",
       "      <th>language</th>\n",
       "      <th>cond</th>\n",
       "      <th>counterbalance</th>\n",
       "      <th>codeversion</th>\n",
       "      <th>beginhit</th>\n",
       "      <th>beginexp</th>\n",
       "      <th>endhit</th>\n",
       "      <th>bonus</th>\n",
       "      <th>status</th>\n",
       "      <th>mode</th>\n",
       "      <th>datastring</th>\n",
       "    </tr>\n",
       "  </thead>\n",
       "  <tbody>\n",
       "    <tr>\n",
       "      <th>0</th>\n",
       "      <td>debug9M4c7:debugHybhM</td>\n",
       "      <td>debugHybhM</td>\n",
       "      <td>debug9M4c7</td>\n",
       "      <td>debugdZZHC</td>\n",
       "      <td>10.1.63.196</td>\n",
       "      <td>firefox</td>\n",
       "      <td>macos</td>\n",
       "      <td>en-US</td>\n",
       "      <td>0</td>\n",
       "      <td>0</td>\n",
       "      <td>0.0.1</td>\n",
       "      <td>2022-03-03 00:18:42.841817</td>\n",
       "      <td>2022-03-03 00:18:51.885755</td>\n",
       "      <td>NaT</td>\n",
       "      <td>0.0</td>\n",
       "      <td>2</td>\n",
       "      <td>debug</td>\n",
       "      <td>{\"condition\": 0, \"counterbalance\": 0, \"assignm...</td>\n",
       "    </tr>\n",
       "    <tr>\n",
       "      <th>1</th>\n",
       "      <td>debug9Q4WPJ:debugTTZSEA</td>\n",
       "      <td>debugTTZSEA</td>\n",
       "      <td>debug9Q4WPJ</td>\n",
       "      <td>debugHP8QDZ</td>\n",
       "      <td>10.1.27.45</td>\n",
       "      <td>firefox</td>\n",
       "      <td>macos</td>\n",
       "      <td>en-US</td>\n",
       "      <td>0</td>\n",
       "      <td>0</td>\n",
       "      <td>0.0.1</td>\n",
       "      <td>2022-03-03 00:21:57.706563</td>\n",
       "      <td>2022-03-03 00:22:09.510882</td>\n",
       "      <td>2022-03-03 00:22:19.328351</td>\n",
       "      <td>0.0</td>\n",
       "      <td>3</td>\n",
       "      <td>debug</td>\n",
       "      <td>{\"condition\": 0, \"counterbalance\": 0, \"assignm...</td>\n",
       "    </tr>\n",
       "    <tr>\n",
       "      <th>2</th>\n",
       "      <td>A23GP99U4NO9SI:36V4Q8R5ZVVI1ED6FTEJSNLFLNDQMW</td>\n",
       "      <td>36V4Q8R5ZVVI1ED6FTEJSNLFLNDQMW</td>\n",
       "      <td>A23GP99U4NO9SI</td>\n",
       "      <td>3G3AJKPCYVN8J6HSAXQGUWC147P4Y9</td>\n",
       "      <td>10.1.27.45</td>\n",
       "      <td>firefox</td>\n",
       "      <td>macos</td>\n",
       "      <td>en-US</td>\n",
       "      <td>0</td>\n",
       "      <td>0</td>\n",
       "      <td>0.0.1</td>\n",
       "      <td>2022-03-03 00:22:56.322421</td>\n",
       "      <td>2022-03-03 00:23:07.454377</td>\n",
       "      <td>2022-03-03 00:23:21.902123</td>\n",
       "      <td>0.0</td>\n",
       "      <td>5</td>\n",
       "      <td>sandbox</td>\n",
       "      <td>{\"condition\": 0, \"counterbalance\": 0, \"assignm...</td>\n",
       "    </tr>\n",
       "  </tbody>\n",
       "</table>\n",
       "</div>"
      ],
      "text/plain": [
       "                                        uniqueid  \\\n",
       "0                          debug9M4c7:debugHybhM   \n",
       "1                        debug9Q4WPJ:debugTTZSEA   \n",
       "2  A23GP99U4NO9SI:36V4Q8R5ZVVI1ED6FTEJSNLFLNDQMW   \n",
       "\n",
       "                     assignmentid        workerid  \\\n",
       "0                      debugHybhM      debug9M4c7   \n",
       "1                     debugTTZSEA     debug9Q4WPJ   \n",
       "2  36V4Q8R5ZVVI1ED6FTEJSNLFLNDQMW  A23GP99U4NO9SI   \n",
       "\n",
       "                            hitid    ipaddress  browser platform language  \\\n",
       "0                      debugdZZHC  10.1.63.196  firefox    macos    en-US   \n",
       "1                     debugHP8QDZ   10.1.27.45  firefox    macos    en-US   \n",
       "2  3G3AJKPCYVN8J6HSAXQGUWC147P4Y9   10.1.27.45  firefox    macos    en-US   \n",
       "\n",
       "   cond  counterbalance codeversion                   beginhit  \\\n",
       "0     0               0       0.0.1 2022-03-03 00:18:42.841817   \n",
       "1     0               0       0.0.1 2022-03-03 00:21:57.706563   \n",
       "2     0               0       0.0.1 2022-03-03 00:22:56.322421   \n",
       "\n",
       "                    beginexp                     endhit  bonus  status  \\\n",
       "0 2022-03-03 00:18:51.885755                        NaT    0.0       2   \n",
       "1 2022-03-03 00:22:09.510882 2022-03-03 00:22:19.328351    0.0       3   \n",
       "2 2022-03-03 00:23:07.454377 2022-03-03 00:23:21.902123    0.0       5   \n",
       "\n",
       "      mode                                         datastring  \n",
       "0    debug  {\"condition\": 0, \"counterbalance\": 0, \"assignm...  \n",
       "1    debug  {\"condition\": 0, \"counterbalance\": 0, \"assignm...  \n",
       "2  sandbox  {\"condition\": 0, \"counterbalance\": 0, \"assignm...  "
      ]
     },
     "metadata": {},
     "output_type": "display_data"
    }
   ],
   "source": [
    "# Verify that you can query task data.\n",
    "df = pd.read_sql_query(\"SELECT * FROM assignments\", engine)\n",
    "display(df)"
   ]
  },
  {
   "cell_type": "markdown",
   "id": "38d305b9",
   "metadata": {},
   "source": [
    "### Verify data saved by PsiTurk.\n",
    "\n",
    "If the data is there, your data saving method using psiturk is functional."
   ]
  },
  {
   "cell_type": "code",
   "execution_count": 4,
   "id": "831db910",
   "metadata": {},
   "outputs": [
    {
     "name": "stdout",
     "output_type": "stream",
     "text": [
      "Participant 1\n",
      "{'phase': 'INSTRUCTIONS', 'templates': ['instructions/instruct-1.html', 'instructions/instruct-2.html', 'instructions/instruct-practiceStart.html'], 'action': 'Begin'}\n",
      "{'phase': 'INSTRUCTIONS', 'template': 'instructions/instruct-1.html', 'indexOf': 0, 'action': 'NextPage', 'viewTime': 1456}\n",
      "{'phase': 'INSTRUCTIONS', 'template': 'instructions/instruct-2.html', 'indexOf': 1, 'action': 'NextPage', 'viewTime': 949}\n",
      "{'phase': 'INSTRUCTIONS', 'template': 'instructions/instruct-practiceStart.html', 'indexOf': 2, 'action': 'FinishInstructions', 'viewTime': 791}\n",
      "\n",
      "Participant 2\n",
      "{'phase': 'INSTRUCTIONS', 'templates': ['instructions/instruct-1.html', 'instructions/instruct-2.html', 'instructions/instruct-practiceStart.html'], 'action': 'Begin'}\n",
      "{'phase': 'INSTRUCTIONS', 'template': 'instructions/instruct-1.html', 'indexOf': 0, 'action': 'NextPage', 'viewTime': 948}\n",
      "{'phase': 'INSTRUCTIONS', 'template': 'instructions/instruct-2.html', 'indexOf': 1, 'action': 'NextPage', 'viewTime': 748}\n",
      "{'phase': 'INSTRUCTIONS', 'template': 'instructions/instruct-practiceStart.html', 'indexOf': 2, 'action': 'FinishInstructions', 'viewTime': 766}\n",
      "{'rt': 770, 'stimulus': '<p style=\"font-size: 30px;\">This is the practice trial. Press any key to begin.</p>', 'response': 'arrowright', 'trial_type': 'html-keyboard-response', 'trial_index': 0, 'time_elapsed': 772, 'internal_node_id': '0.0-0.0'}\n",
      "{'rt': 1852, 'answer': ['lessThan50'], 'response': 'greaterThan50', 'correct': False, 'trial_type': 'DisplayTableStim', 'trial_index': 1, 'time_elapsed': 2627, 'internal_node_id': '0.0-1.0', 'stage': 'Trial'}\n",
      "{'rt': 1126, 'stimulus': '<p> Wrong <br> User Response: greaterThan50<br> Correct Response: lessThan50</p>', 'response': 0, 'trial_type': 'html-button-response', 'trial_index': 2, 'time_elapsed': 3757, 'internal_node_id': '0.0-2.0'}\n",
      "{'rt': 1259, 'answer': ['greaterThan50'], 'response': 'lessThan50', 'correct': False, 'trial_type': 'DisplayTableStim', 'trial_index': 3, 'time_elapsed': 5023, 'internal_node_id': '0.0-3.0', 'stage': 'Trial'}\n",
      "{'rt': 726, 'stimulus': '<p> Wrong <br> User Response: lessThan50<br> Correct Response: greaterThan50</p>', 'response': 0, 'trial_type': 'html-button-response', 'trial_index': 4, 'time_elapsed': 5756, 'internal_node_id': '0.0-4.0'}\n",
      "{'rt': 1148, 'url': 'instructions/instruct-experimentStart.html', 'trial_type': 'external-html', 'trial_index': 5, 'time_elapsed': 7001, 'internal_node_id': '0.0-5.0'}\n",
      "{'rt': 964, 'stimulus': '<p style=\"font-size: 30px;\">This is the real experiment. Press any key to begin.</p>', 'response': 'arrowright', 'trial_type': 'html-keyboard-response', 'trial_index': 6, 'time_elapsed': 7969, 'internal_node_id': '0.0-6.0'}\n",
      "{'rt': 1438, 'answer': ['lessThan50'], 'response': 'lessThan50', 'correct': True, 'trial_type': 'DisplayTableStim', 'trial_index': 7, 'time_elapsed': 9415, 'internal_node_id': '0.0-7.0'}\n",
      "{'rt': 722, 'stimulus': '<p> Correct <br> User Response: lessThan50<br> Correct Response: lessThan50</p>', 'response': 0, 'trial_type': 'html-button-response', 'trial_index': 8, 'time_elapsed': 10142, 'internal_node_id': '0.0-8.0'}\n",
      "{'rt': 1166, 'answer': ['lessThan50'], 'response': 'lessThan50', 'correct': True, 'trial_type': 'DisplayTableStim', 'trial_index': 9, 'time_elapsed': 11315, 'internal_node_id': '0.0-9.0'}\n",
      "{'rt': 677, 'stimulus': '<p> Correct <br> User Response: lessThan50<br> Correct Response: lessThan50</p>', 'response': 0, 'trial_type': 'html-button-response', 'trial_index': 10, 'time_elapsed': 11996, 'internal_node_id': '0.0-10.0'}\n",
      "{'rt': 1426, 'answer': ['greaterThan50'], 'response': 'lessThan50', 'correct': False, 'trial_type': 'DisplayTableStim', 'trial_index': 11, 'time_elapsed': 13424, 'internal_node_id': '0.0-11.0'}\n",
      "{'rt': 948, 'stimulus': '<p> Wrong <br> User Response: lessThan50<br> Correct Response: greaterThan50</p>', 'response': 0, 'trial_type': 'html-button-response', 'trial_index': 12, 'time_elapsed': 14377, 'internal_node_id': '0.0-12.0'}\n",
      "{'rt': 1319, 'answer': ['lessThan50'], 'response': 'lessThan50', 'correct': True, 'trial_type': 'DisplayTableStim', 'trial_index': 13, 'time_elapsed': 15698, 'internal_node_id': '0.0-13.0'}\n",
      "{'rt': 888, 'stimulus': '<p> Correct <br> User Response: lessThan50<br> Correct Response: lessThan50</p>', 'response': 0, 'trial_type': 'html-button-response', 'trial_index': 14, 'time_elapsed': 16592, 'internal_node_id': '0.0-14.0'}\n",
      "{'rt': 1047, 'stimulus': '<p>You responded correctly on 75% of the trials.</p>\\n        <p>Thank you for your participation!</p>\\n        <p>Press any key to complete the experiment.</p>', 'response': 'arrowright', 'trial_type': 'html-keyboard-response', 'trial_index': 15, 'time_elapsed': 17643, 'internal_node_id': '0.0-15.0'}\n",
      "\n",
      "Participant 3\n",
      "{'phase': 'INSTRUCTIONS', 'templates': ['instructions/instruct-1.html', 'instructions/instruct-2.html', 'instructions/instruct-practiceStart.html'], 'action': 'Begin'}\n",
      "{'phase': 'INSTRUCTIONS', 'template': 'instructions/instruct-1.html', 'indexOf': 0, 'action': 'NextPage', 'viewTime': 1243}\n",
      "{'phase': 'INSTRUCTIONS', 'template': 'instructions/instruct-2.html', 'indexOf': 1, 'action': 'NextPage', 'viewTime': 1455}\n",
      "{'phase': 'INSTRUCTIONS', 'template': 'instructions/instruct-practiceStart.html', 'indexOf': 2, 'action': 'FinishInstructions', 'viewTime': 846}\n",
      "{'rt': 696, 'stimulus': '<p style=\"font-size: 30px;\">This is the practice trial. Press any key to begin.</p>', 'response': 'arrowright', 'trial_type': 'html-keyboard-response', 'trial_index': 0, 'time_elapsed': 699, 'internal_node_id': '0.0-0.0'}\n",
      "{'rt': 1690, 'answer': ['lessThan50'], 'response': 'greaterThan50', 'correct': False, 'trial_type': 'DisplayTableStim', 'trial_index': 1, 'time_elapsed': 2391, 'internal_node_id': '0.0-1.0', 'stage': 'Trial'}\n",
      "{'rt': 747, 'stimulus': '<p> Wrong <br> User Response: greaterThan50<br> Correct Response: lessThan50</p>', 'response': 0, 'trial_type': 'html-button-response', 'trial_index': 2, 'time_elapsed': 3143, 'internal_node_id': '0.0-2.0'}\n",
      "{'rt': 1331, 'answer': ['lessThan50'], 'response': 'greaterThan50', 'correct': False, 'trial_type': 'DisplayTableStim', 'trial_index': 3, 'time_elapsed': 4477, 'internal_node_id': '0.0-3.0', 'stage': 'Trial'}\n",
      "{'rt': 716, 'stimulus': '<p> Wrong <br> User Response: greaterThan50<br> Correct Response: lessThan50</p>', 'response': 0, 'trial_type': 'html-button-response', 'trial_index': 4, 'time_elapsed': 5198, 'internal_node_id': '0.0-4.0'}\n",
      "{'rt': 922, 'url': 'instructions/instruct-experimentStart.html', 'trial_type': 'external-html', 'trial_index': 5, 'time_elapsed': 6224, 'internal_node_id': '0.0-5.0'}\n",
      "{'rt': 698, 'stimulus': '<p style=\"font-size: 30px;\">This is the real experiment. Press any key to begin.</p>', 'response': 'arrowright', 'trial_type': 'html-keyboard-response', 'trial_index': 6, 'time_elapsed': 6924, 'internal_node_id': '0.0-6.0'}\n",
      "{'rt': 2389, 'answer': ['lessThan50'], 'response': 'lessThan50', 'correct': True, 'trial_type': 'DisplayTableStim', 'trial_index': 7, 'time_elapsed': 9321, 'internal_node_id': '0.0-7.0'}\n",
      "{'rt': 984, 'stimulus': '<p> Correct <br> User Response: lessThan50<br> Correct Response: lessThan50</p>', 'response': 0, 'trial_type': 'html-button-response', 'trial_index': 8, 'time_elapsed': 10310, 'internal_node_id': '0.0-8.0'}\n",
      "{'rt': 1654, 'answer': ['greaterThan50'], 'response': 'lessThan50', 'correct': False, 'trial_type': 'DisplayTableStim', 'trial_index': 9, 'time_elapsed': 11971, 'internal_node_id': '0.0-9.0'}\n",
      "{'rt': 791, 'stimulus': '<p> Wrong <br> User Response: lessThan50<br> Correct Response: greaterThan50</p>', 'response': 0, 'trial_type': 'html-button-response', 'trial_index': 10, 'time_elapsed': 12769, 'internal_node_id': '0.0-10.0'}\n",
      "{'rt': 1916, 'answer': ['lessThan50'], 'response': 'lessThan50', 'correct': True, 'trial_type': 'DisplayTableStim', 'trial_index': 11, 'time_elapsed': 14689, 'internal_node_id': '0.0-11.0'}\n",
      "{'rt': 694, 'stimulus': '<p> Correct <br> User Response: lessThan50<br> Correct Response: lessThan50</p>', 'response': 0, 'trial_type': 'html-button-response', 'trial_index': 12, 'time_elapsed': 15386, 'internal_node_id': '0.0-12.0'}\n",
      "{'rt': 3246, 'answer': ['lessThan50'], 'response': 'lessThan50', 'correct': True, 'trial_type': 'DisplayTableStim', 'trial_index': 13, 'time_elapsed': 18634, 'internal_node_id': '0.0-13.0'}\n",
      "{'rt': 936, 'stimulus': '<p> Correct <br> User Response: lessThan50<br> Correct Response: lessThan50</p>', 'response': 0, 'trial_type': 'html-button-response', 'trial_index': 14, 'time_elapsed': 19576, 'internal_node_id': '0.0-14.0'}\n",
      "{'rt': 1612, 'stimulus': '<p>You responded correctly on 75% of the trials.</p>\\n        <p>Thank you for your participation!</p>\\n        <p>Press any key to complete the experiment.</p>', 'response': ' ', 'trial_type': 'html-keyboard-response', 'trial_index': 15, 'time_elapsed': 21190, 'internal_node_id': '0.0-15.0'}\n",
      "\n"
     ]
    }
   ],
   "source": [
    "for i, datastring in enumerate(df['datastring'].values):\n",
    "        print('Participant', i + 1)\n",
    "        for participantData in json.loads(datastring)['data']:\n",
    "            print(participantData['trialdata'])\n",
    "        print()"
   ]
  }
 ],
 "metadata": {
  "kernelspec": {
   "display_name": "Python 3 (ipykernel)",
   "language": "python",
   "name": "python3"
  },
  "language_info": {
   "codemirror_mode": {
    "name": "ipython",
    "version": 3
   },
   "file_extension": ".py",
   "mimetype": "text/x-python",
   "name": "python",
   "nbconvert_exporter": "python",
   "pygments_lexer": "ipython3",
   "version": "3.8.12"
  }
 },
 "nbformat": 4,
 "nbformat_minor": 5
}
